{
 "cells": [
  {
   "cell_type": "code",
   "execution_count": 3,
   "id": "bee356",
   "metadata": {
    "collapsed": false
   },
   "outputs": [
   ],
   "source": [
    "#We first import numpy as a math package, networkx to work with graphs and matplotlib to create plots.\n",
    "import numpy as np\n",
    "import networkx as nx\n",
    "import matplotlib.pyplot as plt"
   ]
  },
  {
   "cell_type": "code",
   "execution_count": 4,
   "id": "678468",
   "metadata": {
    "collapsed": false
   },
   "outputs": [
   ],
   "source": [
    "#This function pseudorandomly generates a graph, with standard randomseed 1(can be changed by giving random seed as third argument).\n",
    "#Input int n (number of vertices), float prob(probability of there being a connection), randomseed=1 (value for our seudorandomgenerator to consistently generate the same random graph)\n",
    "#Returns int len(vertices), which is the total amount of vertices in the graph, and list edgeset containing all edges of the random graph.\n",
    "def genRandomGraph(n,prob,randomseed = 1):\n",
    "    #Generate the vertex set based on the given number of vertices\n",
    "    vertices = []\n",
    "    for i in range(0,n):\n",
    "            vertices.append(i)\n",
    "    #Create a pseudorandom edgeset corresponding to the vertexset based on given probability and number of vertices.\n",
    "    edgeset = []\n",
    "    np.random.seed(randomseed)\n",
    "    nsquared = n*n\n",
    "    ncubed = n*n*n\n",
    "    #Create enough zeroes and ones corresponding to all possible edges in the list random_connections\n",
    "    random_connections = np.random.binomial(1,prob,size = ncubed)\n",
    "    #Add all edges corresponding to a 1 in random connections to the edgeset.\n",
    "    for i in range(0,len(vertices)):\n",
    "        for j in range(i+1, len(vertices)):\n",
    "            if (int(random_connections[i*nsquared + j]) == 1):\n",
    "                edgeset.append((i, j))\n",
    "    \n",
    "    return [len(vertices), edgeset]"
   ]
  },
  {
   "cell_type": "code",
   "execution_count": 5,
   "id": "4185c5",
   "metadata": {
    "collapsed": false
   },
   "outputs": [
   ],
   "source": [
    "#This function generates a graph based on gives vertices and edges and tests if this graph is connected.\n",
    "#Input int numberOfVertices, list edges\n",
    "#Returns boolean connectedBoolean\n",
    "def isConnected(numberOfVertices, edges):\n",
    "    #create empty Graph G with networkx\n",
    "    G = nx.Graph()\n",
    "    #Add vertices to Graph G based on input numberOfVertices\n",
    "    for vertex in range(0,numberOfVertices):\n",
    "        G.add_node(vertex)\n",
    "    #Add edges to graph G based on input edges\n",
    "    for edge in edges:\n",
    "        G.add_edge(edge[0],edge[1])\n",
    "    #check if graph G is connected, store result as Boolean and return it.\n",
    "    connectedBoolean = nx.is_connected(G)\n",
    "    return connectedBoolean"
   ]
  },
  {
   "cell_type": "code",
   "execution_count": 6,
   "id": "dab05a",
   "metadata": {
    "collapsed": false
   },
   "outputs": [
   ],
   "source": [
    "#This function creates a random connected graph based on the number of vertices and the average probability of edges being in the graph.\n",
    "def generateConnectedGraph(n, prob):\n",
    "    random_seed = 0\n",
    "    random_graph = genRandomGraph(n, prob, random_seed)\n",
    "    connectedBoolean = False\n",
    "    while connectedBoolean == False:\n",
    "        random_seed += 1\n",
    "        random_graph = genRandomGraph(n,prob,random_seed)\n",
    "        connectedBoolean = isConnected(random_graph[0], random_graph[1])\n",
    "    print(\"Random seed = \" + str(random_seed))\n",
    "    return (random_graph)"
   ]
  },
  {
   "cell_type": "code",
   "execution_count": 7,
   "id": "142a0f",
   "metadata": {
    "collapsed": false
   },
   "outputs": [
   ],
   "source": [
    "#This function determines the vertices of grade 0 in a graph with list edgeset and n vertices and returns the vertices with grade 0 as a list.\n",
    "def dertermineFreeVertices(edges, n):\n",
    "    index = list(range(0,n))\n",
    "    numbersWithEdges = []\n",
    "    for edge in edges:\n",
    "        numbersWithEdges.append(edge[0])\n",
    "        numbersWithEdges.append(edge[1])\n",
    "    numbersWithEdges = set(numbersWithEdges)\n",
    "    verticesWithoutEdges = list(set(index)-set(numbersWithEdges))\n",
    "    return verticesWithoutEdges"
   ]
  },
  {
   "cell_type": "code",
   "execution_count": 8,
   "id": "5c83bf",
   "metadata": {
    "collapsed": false
   },
   "outputs": [
   ],
   "source": [
    "#This function calculates the Ideal and Groebnerbasis over Q and does not define a NumberField.\n",
    "def calculateOverQ(graphInfo, k, ordering, verticesWithoutEdges):\n",
    "    numberOfVertices = graphInfo[0]\n",
    "    R = PolynomialRing(QQ,numberOfVertices, names='x', order=ordering)\n",
    "    x = R.gens()\n",
    "    edges = graphInfo[1]\n",
    "    index = list(range(0,n))\n",
    "    functions = []\n",
    "    \n",
    "    if is_even(k):\n",
    "        for i in index:\n",
    "            functions.append(prod([x[i]^2-j^2 for j in range(1,k/2 + 1)]))\n",
    "        for edge in edges:\n",
    "            functions.append(R(factor((prod([x[edge[0]]^2-j^2 for j in range(1,k/2+1)]) - prod([x[edge[1]]^2-j^2 for j in range(1,k/2+1)]))/(x[edge[0]]-x[edge[1]]))))\n",
    "    else:\n",
    "        for i in index:\n",
    "            functions.append(x[i]*prod([x[i]^2-j^2 for j in range(1,(k-1)/2 + 1)]))\n",
    "        for edge in edges:\n",
    "            functions.append(R(factor((x[edge[0]]*prod([x[edge[0]]^2-j^2 for j in range(1,(k-1)/2+1)]) - x[edge[1]]*prod([x[edge[1]]^2-j^2 for j in range(1,(k-1)/2+1)]))/(x[edge[0]]-x[edge[1]]))))\n",
    "        \n",
    "    substitutionDictionairy = {}\n",
    "    \n",
    "    for vertex in verticesWithoutEdges:\n",
    "        substitutionDictionairy[x[vertex]] = 1\n",
    "        \n",
    "    firstConnectedVertex = edges[0][0]\n",
    "    secondConnectedVertex = edges[0][1]\n",
    "    \n",
    "    substitutionDictionairy[x[firstConnectedVertex]] = 1\n",
    "    substitutionDictionairy[x[secondConnectedVertex]] = -1\n",
    "    \n",
    "    \n",
    "    functions = [f.subs(substitutionDictionairy) for f in functions]    \n",
    "    for vertex in verticesWithoutEdges:\n",
    "        functions.append(x[vertex]-1)\n",
    "    \n",
    "    functions.append(x[firstConnectedVertex] - 1)\n",
    "    functions.append(x[secondConnectedVertex] + 1)\n",
    "    \n",
    "    \n",
    "    I = Ideal(functions)\n",
    "    G = I.groebner_basis()\n",
    "    \n",
    "    return (I,G)"
   ]
  },
  {
   "cell_type": "code",
   "execution_count": 9,
   "id": "94b05f",
   "metadata": {
    "collapsed": false
   },
   "outputs": [
   ],
   "source": [
    "def createPolynomialRing(numberOfVertices, k, ordering):\n",
    "    F = createNumberField(k)\n",
    "    R = PolynomialRing(F,numberOfVertices, names='x', order=ordering)\n",
    "     \n",
    "    return R"
   ]
  },
  {
   "cell_type": "code",
   "execution_count": 10,
   "id": "c3cc16",
   "metadata": {
    "collapsed": false
   },
   "outputs": [
   ],
   "source": [
    "#This function calculates the Ideal and Groebnerbasis with a PolynomialRing based on a NumberField\n",
    "def calculateOverCyclictomical(graphInfo, k, ordering, verticesWithoutEdges):\n",
    "    numberOfVertices = graphInfo[0]\n",
    "    R.<w> = PolynomialRing(QQ)\n",
    "    b = [0,w-1, w+1, w^(2)+w+1, w^(2)+1, w^(4)+w^(3)+w^(2)+w+1, w^(2)-w+1, w^(6)+w^(5)+w^(4)+w^(3)+w^(2)+w+1, w^(4)+1, w^(6)+w^(3)+1]\n",
    "    cyclitomicPolynomial = b[k]\n",
    "    F.<w> = NumberField(cyclitomicPolynomial)\n",
    "    R = PolynomialRing(F,numberOfVertices, names='x', order=ordering)\n",
    "    \n",
    "    \n",
    "    edges = graphInfo[1]\n",
    "    \n",
    "    \n",
    "    x = R.gens()\n",
    "    index = list(range(0,n))\n",
    "    functions = []\n",
    "    \n",
    "    for i in index:\n",
    "        functions.append(x[i]^k - 1)\n",
    "    \n",
    "    for edge in edges:\n",
    "        functions.append(sum([x[edge[0]]^(k-1-m) * x[edge[1]]^m for m in range(0,k)]))\n",
    "        \n",
    "    substitutionDictionairy = {}\n",
    "    \n",
    "    for vertex in verticesWithoutEdges:\n",
    "        substitutionDictionairy[x[vertex]] = 1\n",
    "        \n",
    "    firstConnectedVertex = edges[0][0]\n",
    "    secondConnectedVertex = edges[0][1]\n",
    "    \n",
    "    substitutionDictionairy[x[firstConnectedVertex]] = 1\n",
    "    substitutionDictionairy[x[secondConnectedVertex]] = w\n",
    "    \n",
    "    \n",
    "    functions = [f.subs(substitutionDictionairy) for f in functions]    \n",
    "    for vertex in verticesWithoutEdges:\n",
    "        functions.append(x[vertex]-1)\n",
    "    \n",
    "    functions.append(x[firstConnectedVertex] - 1)\n",
    "    functions.append(x[secondConnectedVertex] - w)\n",
    "    \n",
    "    \n",
    "    I = Ideal(functions)\n",
    "    G = I.groebner_basis()\n",
    "    \n",
    "    return (I,G)"
   ]
  },
  {
   "cell_type": "code",
   "execution_count": 11,
   "id": "10b38c",
   "metadata": {
    "collapsed": false
   },
   "outputs": [
    {
     "name": "stdout",
     "output_type": "stream",
     "text": [
      "Random seed = 1\n",
      "[22, [(0, 13), (0, 20), (0, 21), (1, 7), (1, 11), (1, 12), (1, 13), (1, 14), (2, 3), (2, 5), (2, 14), (2, 20), (2, 21), (3, 4), (3, 9), (3, 10), (4, 13), (4, 16), (5, 10), (5, 17), (5, 19), (6, 9), (6, 13), (6, 21), (7, 8), (7, 12), (7, 14), (8, 16), (8, 19), (8, 21), (9, 18), (10, 17), (10, 18), (11, 14), (11, 19), (11, 21), (12, 19), (13, 17), (13, 18), (14, 15), (14, 16), (14, 18), (14, 20), (15, 16), (15, 18), (15, 19), (16, 18)]]\n"
     ]
    }
   ],
   "source": [
    "#Generate a random connected graph G, to be colored later using different coloring methods.\n",
    "n=22\n",
    "p=0.2\n",
    "ordering='degrevlex'\n",
    "graphInfo = generateConnectedGraph(n,p)\n",
    "verticesWithoutEdges = dertermineFreeVertices(graphInfo[1], n)\n",
    "print(graphInfo)"
   ]
  },
  {
   "cell_type": "code",
   "execution_count": 12,
   "id": "02dd3f",
   "metadata": {
    "collapsed": false
   },
   "outputs": [
    {
     "name": "stdout",
     "output_type": "stream",
     "text": [
      "2\n"
     ]
    }
   ],
   "source": [
    "#Calculate coloring of graph G over Q without defining NumberField\n",
    "k=1\n",
    "groebnerBasis = [1]\n",
    "while groebnerBasis == [1]:\n",
    "    k += 1\n",
    "    print(k)\n",
    "    (I, groebnerBasis) = calculateOverQ(graphInfo, k, ordering, verticesWithoutEdges)\n",
    "    \n",
    "print('The chromatic number of the graph is: ', k)\n",
    "#number_of_solutions = I.radical().vector_space_dimension()*k^(len(verticesWithoutEdges)+1)*(k-1)\n",
    "#print('The number of colorings using at most', k, 'colors is: ', number_of_solutions)\n",
    "\n",
    "\n"
   ]
  },
  {
   "cell_type": "code",
   "execution_count": 0,
   "id": "35dd56",
   "metadata": {
    "collapsed": false
   },
   "outputs": [
   ],
   "source": [
    "#Calculate coloring of G with PolynomialRing based on NumberField\n",
    "k=1\n",
    "ordering = 'degrevlex'\n",
    "groebnerBasis = [1]\n",
    "while groebnerBasis == [1]:\n",
    "    k += 1\n",
    "    print(k)\n",
    "    (I, groebnerBasis) = calculateOverCyclictomical(graphInfo, k, ordering, verticesWithoutEdges)\n",
    "    \n",
    "print('The chromatic number of the graph is: ', k)\n",
    "#number_of_solutions = I.radical().vector_space_dimension()*k^(len(verticesWithoutEdges)+1)*(k-1)\n",
    "#print('The number of colorings using at most', k, 'colors is: ', number_of_solutions)\n"
   ]
  }
 ],
 "metadata": {
  "kernelspec": {
   "argv": [
    "sage-10.4",
    "--python",
    "-m",
    "sage.repl.ipython_kernel",
    "--matplotlib=inline",
    "-f",
    "{connection_file}"
   ],
   "display_name": "SageMath 10.4",
   "env": {
   },
   "language": "sagemath",
   "metadata": {
    "cocalc": {
     "description": "Open-source mathematical software system",
     "priority": 10,
     "url": "https://www.sagemath.org/"
    }
   },
   "name": "sage-10.4",
   "resource_dir": "/ext/jupyter/kernels/sage-10.4"
  }
 },
 "nbformat": 4,
 "nbformat_minor": 4
}