{
 "cells": [
  {
   "cell_type": "code",
   "execution_count": 1,
   "id": "911ebedf-0d77-4ba2-bc10-fd3fc1e926ed",
   "metadata": {},
   "outputs": [
    {
     "name": "stdout",
     "output_type": "stream",
     "text": [
      "Number of colorings using at most 4 colors:  192\n"
     ]
    }
   ],
   "source": [
    "# 4 NO CONSTRAINTS\n",
    "k = 4 # number of available colors\n",
    "n = 7 # number of vertices\n",
    "R.<w> = PolynomialRing(QQ)\n",
    "F.<w> = NumberField(w^(2) + 1) # add the kth cyclotomic polynomial\n",
    "R = PolynomialRing(F, n, names='x', order='degrevlex')\n",
    "x = R.gens()  # x is a tuple containing the variables\n",
    "\n",
    "index = list(range(0,n))\n",
    "functions = []\n",
    "for i in index:\n",
    "    functions.append(x[i]^k - 1)\n",
    "edges = [(0,1),(0,3),(0,4),(1,2),(1,5),(2,3),(2,5),(2,6),(3,4),(3,6),(4,5),(4,6),(5,6)]\n",
    "for edge in edges:\n",
    "    functions.append(sum([x[edge[0]]^(k-1-m)*x[edge[1]]^m for m in range(0,k)]))\n",
    "I = Ideal(functions)\n",
    "G = I.groebner_basis();\n",
    "number_of_colorings = I.radical().vector_space_dimension()\n",
    "print('Number of colorings using at most', k, 'colors: ', number_of_colorings)"
   ]
  },
  {
   "cell_type": "code",
   "execution_count": 2,
   "id": "2b292319-88b6-4707-8fcf-3255ed38eb8b",
   "metadata": {},
   "outputs": [
    {
     "name": "stdout",
     "output_type": "stream",
     "text": [
      "Number of colorings using exactly 4 colors:  192\n",
      "Number of colorings using exactly 4 colors, unique up to permutations of the colors:  8\n"
     ]
    }
   ],
   "source": [
    "#4 CONSTRAINTS\n",
    "k = 4 # number of available colors\n",
    "n = 7 # number of vertices\n",
    "R.<w> = PolynomialRing(QQ)\n",
    "F.<w> = NumberField(w^(2) + 1) # add the kth cyclotomic polynomial\n",
    "R = PolynomialRing(F, n, names='x', order='degrevlex')\n",
    "x = R.gens()  # x is a tuple containing the variables\n",
    "\n",
    "index = list(range(0,n))\n",
    "functions = []\n",
    "for i in index:\n",
    "    functions.append(x[i]^k - 1)\n",
    "edges = [(0,1),(0,3),(0,4),(1,2),(1,5),(2,3),(2,5),(2,6),(3,4),(3,6),(4,5),(4,6),(5,6)]\n",
    "for edge in edges:\n",
    "    functions.append(sum([x[edge[0]]^(k-1-m) * x[edge[1]]^m for m in range(0,k)]))\n",
    "for i in range(0,k):\n",
    "    functions.append(prod([x[j]-w^i for j in range(0,n)]))       \n",
    "I = Ideal(functions)\n",
    "G = I.groebner_basis()\n",
    "\n",
    "number_of_colorings = I.radical().vector_space_dimension()\n",
    "print('Number of colorings using exactly', k, 'colors: ', number_of_colorings)\n",
    "print('Number of colorings using exactly', k, 'colors, unique up to permutations of the colors: ', number_of_colorings/factorial(k))"
   ]
  },
  {
   "cell_type": "code",
   "execution_count": 3,
   "id": "f9d9bb29-c968-40de-9ce2-0050b4b21dd4",
   "metadata": {},
   "outputs": [
    {
     "name": "stdout",
     "output_type": "stream",
     "text": [
      "Number of colorings using at most 5 colors:  3000\n"
     ]
    }
   ],
   "source": [
    "#5 NO CONSTRAINTS\n",
    "k = 5 # number of available colors\n",
    "n = 7 # number of vertices\n",
    "R.<w> = PolynomialRing(QQ)\n",
    "F.<w> = NumberField(w^(4) + w^(3) + w^(2) + w + 1) # add the kth cyclotomic polynomial\n",
    "R = PolynomialRing(F, n, names='x', order='degrevlex')\n",
    "x = R.gens()  # x is a tuple containing the variables\n",
    "\n",
    "index = list(range(0,n))\n",
    "functions = []\n",
    "for i in index:\n",
    "    functions.append(x[i]^k - 1)\n",
    "edges = [(0,1),(0,3),(0,4),(1,2),(1,5),(2,3),(2,5),(2,6),(3,4),(3,6),(4,5),(4,6),(5,6)]\n",
    "for edge in edges:\n",
    "    functions.append(sum([x[edge[0]]^(k-1-m) * x[edge[1]]^m for m in range(0,k)]))\n",
    "I = Ideal(functions)\n",
    "G = I.groebner_basis();\n",
    "number_of_colorings = I.radical().vector_space_dimension()\n",
    "print('Number of colorings using at most', k, 'colors: ', number_of_colorings)"
   ]
  },
  {
   "cell_type": "code",
   "execution_count": 4,
   "id": "b80d37e4-6acc-4b11-9287-cfb26ce36a64",
   "metadata": {},
   "outputs": [
    {
     "name": "stdout",
     "output_type": "stream",
     "text": [
      "Number of colorings using exactly 5 colors:  2040\n",
      "Number of colorings using exactly 5 colors, unique up to permutations of the colors:  17\n"
     ]
    }
   ],
   "source": [
    "# 5 CONSTRAINTS\n",
    "k = 5 # number of available colors\n",
    "n = 7 # number of vertices\n",
    "R.<w> = PolynomialRing(QQ)\n",
    "F.<w> = NumberField(w^(4) + w^(3) + w^(2) + w + 1) # add the kth cyclotomic polynomial\n",
    "R = PolynomialRing(F, n, names='x', order='degrevlex')\n",
    "x = R.gens()  # x is a tuple containing the variables\n",
    "\n",
    "index = list(range(0,n))\n",
    "functions = []\n",
    "for i in index:\n",
    "    functions.append(x[i]^k - 1)\n",
    "edges = [(0,1),(0,3),(0,4),(1,2),(1,5),(2,3),(2,5),(2,6),(3,4),(3,6),(4,5),(4,6),(5,6)]\n",
    "for edge in edges:\n",
    "    functions.append(sum([x[edge[0]]^(k-1-m) * x[edge[1]]^m for m in range(0,k)]))\n",
    "for i in range(0,k):\n",
    "    functions.append(prod([x[j]-w^i for j in range(0,n)]))          \n",
    "I = Ideal(functions)\n",
    "#G = I.groebner_basis();\n",
    "number_of_colorings = I.radical().vector_space_dimension()\n",
    "print('Number of colorings using exactly', k, 'colors: ', number_of_colorings)\n",
    "print('Number of colorings using exactly', k, 'colors, unique up to permutations of the colors: ', number_of_colorings/factorial(k))"
   ]
  },
  {
   "cell_type": "code",
   "execution_count": null,
   "id": "117c134f",
   "metadata": {},
   "outputs": [],
   "source": []
  }
 ],
 "metadata": {
  "kernelspec": {
   "display_name": "SageMath 10.5",
   "language": "sage",
   "name": "sagemath-10.5"
  },
  "language_info": {
   "codemirror_mode": {
    "name": "ipython",
    "version": 3
   },
   "file_extension": ".py",
   "mimetype": "text/x-python",
   "name": "python",
   "nbconvert_exporter": "python",
   "pygments_lexer": "ipython3",
   "version": "3.12.5"
  }
 },
 "nbformat": 4,
 "nbformat_minor": 5
}
