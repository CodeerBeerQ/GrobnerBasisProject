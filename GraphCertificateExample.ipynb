{
 "cells": [
  {
   "cell_type": "code",
   "execution_count": 3,
   "id": "889c4c",
   "metadata": {
    "collapsed": false
   },
   "outputs": [
    {
     "name": "stdout",
     "output_type": "stream",
     "text": [
      "Gröbner basis:  [1]\n",
      "Number of colorings using at most 3 colors:  0\n",
      "quotients:  [0, 0, 0, 0, 0, 0, -x6^3 - 1, 2/9*x2*x3*x6^2 + 1/9*x2*x6^3 - 2/9*x3*x5*x6^2 - 1/9*x5*x6^3, -2/9*x2*x3*x6^2 - 1/9*x2*x6^3 + 2/9*x3*x6^3 + 1/9*x6^4, 2/9*x3*x5*x6^2 - 2/9*x3*x6^3 + 1/9*x5*x6^3 - 1/9*x6^4, -2/9*x0*x3*x6^2 - 1/9*x0*x6^3 + 2/9*x3*x5*x6^2 + 1/9*x5*x6^3, 2/9*x0*x3*x6^2 + 1/9*x0*x6^3 - 2/9*x2*x3*x6^2 - 1/9*x2*x6^3, 2/9*x0*x3*x6^2 + 1/9*x0*x6^3 - 2/9*x3*x6^3 - 1/9*x6^4, 2/9*x3*x5*x6^2 + 4/9*x3*x6^3 + 1/9*x5*x6^3 + 2/9*x6^4, -4/9*x3*x5*x6^2 - 2/9*x3*x6^3 - 2/9*x5*x6^3 - 1/9*x6^4, 4/9*x5^2*x6^2 - 2/9*x5*x6^3 - 2/9*x6^4, -2/9*x0*x3*x6^2 - 1/9*x0*x6^3 + 2/9*x2*x3*x6^2 + 1/9*x2*x6^3 - 4/9*x5^2*x6^2 + 2/9*x5*x6^3 + 2/9*x6^4, -2/9*x0*x3*x6^2 - 1/9*x0*x6^3 - 4/9*x3*x5*x6^2 + 4/9*x5*x6^3 + 1/3*x6^4, 2/9*x0*x3*x6^2 + 1/9*x0*x6^3 + 2/9*x3*x5*x6^2 + 2/9*x3*x6^3 + 1/9*x5*x6^3 + 4/9*x6^4, 2/9*x3*x5*x6^2 - 2/9*x3*x6^3 - 4/9*x4^2*x6^2 - 4/9*x4*x6^3 - 5/9*x5*x6^3 + 4/9*x6^4]\n",
      "1\n"
     ]
    }
   ],
   "source": [
    "#Code an example of a certificate for 3-coloring a graph with 7 vertices.\n",
    "k = 3 # number of available colors\n",
    "n = 7 # number of vertices\n",
    "\n",
    "R.<w> = PolynomialRing(QQ)\n",
    "F.<w> = NumberField(w^(2) + w + 1) # add the kth cyclotomic polynomial\n",
    "R = PolynomialRing(F, n, names='x', order='deglex')\n",
    "x = R.gens()  # x is a tuple containing the variables\n",
    "\n",
    "#Create a list of functions(polynomial equations) corresponding to the k-coloring of the graph\n",
    "index = list(range(0,n))\n",
    "functions = []\n",
    "for i in index:\n",
    "    functions.append(x[i]^k - 1)\n",
    "edges = [(0,1),(0,3),(0,4),(1,2),(1,5),(2,3),(2,5),(2,6),(3,4),(3,6),(4,5),(4,6),(5,6)]\n",
    "#Add the functions corresponding to the edges to the system of polynomial equations\n",
    "for edge in edges:\n",
    "    functions.append(sum([x[edge[0]]^(k-1-m) * x[edge[1]]^m for m in range(0,k)]))\n",
    "#Create an ideal based on the system of polynomial equations\n",
    "I = Ideal(functions)\n",
    "f = R(1) # turns 1 into a polynomial in our polynomial ring\n",
    "quotients = (f-f.reduce(I)).lift(I) # gives list of quotients\n",
    "G = I.groebner_basis();\n",
    "print('Gröbner basis: ', G)\n",
    "number_of_colorings = I.radical().vector_space_dimension()\n",
    "print('Number of colorings using at most', k, 'colors: ', number_of_colorings)\n",
    "print('quotients: ', list(quotients))\n",
    "#Print the certificate, which is the sum of the product of the function and quotient terms.\n",
    "#If the certificate is 1 then there is no k-coloring.\n",
    "sum = 0\n",
    "for i in range(0,len(quotients)):\n",
    "    sum = sum + functions[i]*quotients[i]\n",
    "print(sum)"
   ]
  }
 ],
 "metadata": {
  "kernelspec": {
   "argv": [
    "sage-10.4",
    "--python",
    "-m",
    "sage.repl.ipython_kernel",
    "--matplotlib=inline",
    "-f",
    "{connection_file}"
   ],
   "display_name": "SageMath 10.4",
   "env": {
   },
   "language": "sagemath",
   "metadata": {
    "cocalc": {
     "description": "Open-source mathematical software system",
     "priority": 10,
     "url": "https://www.sagemath.org/"
    }
   },
   "name": "sage-10.4",
   "resource_dir": "/ext/jupyter/kernels/sage-10.4"
  },
  "language_info": {
   "codemirror_mode": {
    "name": "ipython",
    "version": 3
   },
   "file_extension": ".py",
   "mimetype": "text/x-python",
   "name": "python",
   "nbconvert_exporter": "python",
   "pygments_lexer": "ipython3",
   "version": "3.12.4"
  }
 },
 "nbformat": 4,
 "nbformat_minor": 4
}