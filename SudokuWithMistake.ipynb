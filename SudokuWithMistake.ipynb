{
 "cells": [
  {
   "cell_type": "code",
   "execution_count": 3,
   "id": "9f9503",
   "metadata": {
    "collapsed": false
   },
   "outputs": [
   ],
   "source": [
    "# This function takes as inputs the number of vertices and the squareroot of this same number. It then evaluates lists containing vertices that cannot be equal to each other. Namely each row, collumn and block of the shi/sudoku should not contain different values. Hence it will return lists that contain the indices of the vertices that are in a row toghether, in a collumn toghether or in a 4x4 or 3x3 block toghether.\n",
    "\n",
    "def putRestrictionList(numberOfVertices, squareRootNumberOfVertices):\n",
    "    rows = [[i + j * numberOfVertices for i in range(numberOfVertices)] for j in range(numberOfVertices)]  \n",
    "    cols = [[j + i * numberOfVertices for i in range(numberOfVertices)] for j in range(numberOfVertices)] \n",
    "    blocks = [\n",
    "            [i + j * numberOfVertices for i in range(start_row, start_row + squareRootNumberOfVertices) for j in range(start_col, start_col + squareRootNumberOfVertices)]\n",
    "            for start_row in range(0, numberOfVertices, squareRootNumberOfVertices) for start_col in range(0, numberOfVertices, squareRootNumberOfVertices)\n",
    "    ]\n",
    "    return [rows, cols, blocks]"
   ]
  },
  {
   "cell_type": "code",
   "execution_count": 4,
   "id": "c8a09e",
   "metadata": {
    "collapsed": false
   },
   "outputs": [
   ],
   "source": [
    "# This function takes as input a list that contains vertices that cannot be equal to each other. What it does is it creates a list and fills this with edges between the vertices that are contained in the input. These edges are only defined for i<j, as this already enforces the same constrained for i>j. The output will be the resulting list containing the desired edges.\n",
    "def putListToCoordinateList(list):\n",
    "    result = []\n",
    "    for i in range(len(list)):\n",
    "        for j in range(len(list)):\n",
    "            if list[i]<list[j]:\n",
    "                result.append((list[i], list[j]))\n",
    "    return result"
   ]
  },
  {
   "cell_type": "code",
   "execution_count": 5,
   "id": "51a5bb",
   "metadata": {
    "collapsed": false
   },
   "outputs": [
   ],
   "source": [
    "def generateSudokuSolution():\n",
    "    R.<w> = PolynomialRing(QQ) #Define the polynomial ring.\n",
    "    F.<w> = NumberField(w^(6) + w^(3) + 1) #Define the number field over the 4th cyclotomic polynomial.\n",
    "    R = PolynomialRing(F, 81, names='x', order='degrevlex') #Extend the polynomial ring.\n",
    "    x = R.gens() #Declare the vertice variables.\n",
    "    k = 9 #Set chromatic number.\n",
    "    rules = putRestrictionList(k,3) #Declares the rules and can be seen as an set of edge sets.\n",
    "    index = list(range(0, k^2)) #Declates a list of indices.\n",
    "    functions = []\n",
    "    \n",
    "    for i in index:\n",
    "        functions.append(x[i]^k - 1) #Set the collour constraints.\n",
    "    edges = []\n",
    "    for rule in rules:\n",
    "        for ruleList in rule: #Set rule edges into the edge list.\n",
    "            \n",
    "            edges.extend(putListToCoordinateList(ruleList))\n",
    "            \n",
    "    for edge in edges:\n",
    "        functions.append(sum([x[edge[0]]^(k-1-m)* x[edge[1]]^(m) for m in range(0,k)])) #Set the edge constraints.\n",
    "    \n",
    "    \n",
    "    #Intialize known values including mistake at last\n",
    "    substitutionDictionairy = {x[3]: w, x[4] : w^5, x[6] : w^6, x[8] : 1, x[9] : w^5, x[10] : w^7, x[13] : w^6, x[16] : w^8, x[18] : 1, x[19] : w^8, x[23] : w^3, x[24] : w^4, x[27] : w^7, x[28]: w, x[30] : 1, x[34] : w^3, x[38] : w^3,x[39] : w^5, x[41] : w,x[42] : w^8,x[46] : w^4, x[50] : w^2,x[52] : w,x[53] : w^7,x[56] : w^8,x[57] : w^2, x[61] : w^6, x[62] : w^3, x[64] : w^3, x[67] : w^4, x[70]: w^2, x[71] : w^5, x[72] : w^6, x[74] : w^2, x[76]: 1, x[77] : w^7, x[5] : w^3}\n",
    "    \n",
    "    #Substitude the filled in values into the functions\n",
    "    evaluatedFunctions = [f.subs(substitutionDictionairy) for f in functions]\n",
    "    listWithoutZeros = [item for item in evaluatedFunctions if item != R(0)]\n",
    "   \n",
    "    #Append value constraints \n",
    "    listWithoutZeros.append(x[3] - w)\n",
    "    listWithoutZeros.append(x[4] - w^5)\n",
    "    listWithoutZeros.append(x[6] - w^6)\n",
    "    listWithoutZeros.append(x[8] - 1)\n",
    "    listWithoutZeros.append(x[9] - w^5)\n",
    "    listWithoutZeros.append(x[10] - w^7)\n",
    "    listWithoutZeros.append(x[13] - w^6)\n",
    "    listWithoutZeros.append(x[16] - w^8)\n",
    "    listWithoutZeros.append(x[18] - 1)\n",
    "    listWithoutZeros.append(x[19] - w^8)\n",
    "    listWithoutZeros.append(x[23] - w^3)\n",
    "    listWithoutZeros.append(x[24] - w^4)\n",
    "    listWithoutZeros.append(x[27] - w^7)\n",
    "    listWithoutZeros.append(x[28] - w)\n",
    "    listWithoutZeros.append(x[30] - 1)\n",
    "    listWithoutZeros.append(x[34] - w^3)\n",
    "    listWithoutZeros.append(x[38] - w^3)\n",
    "    listWithoutZeros.append(x[39] - w^5)\n",
    "    listWithoutZeros.append(x[41] - w)\n",
    "    listWithoutZeros.append(x[42] - w^8)\n",
    "    listWithoutZeros.append(x[46] - w^4)\n",
    "    listWithoutZeros.append(x[50] - w^2)\n",
    "    listWithoutZeros.append(x[52] - w)\n",
    "    listWithoutZeros.append(x[53] - w^7)\n",
    "    listWithoutZeros.append(x[56] - w^8)\n",
    "    listWithoutZeros.append(x[57] - w^2)\n",
    "    listWithoutZeros.append(x[61] - w^6)\n",
    "    listWithoutZeros.append(x[62]-w^3)\n",
    "    listWithoutZeros.append(x[64]-w^3)                \n",
    "    listWithoutZeros.append(x[67]-w^4)\n",
    "    listWithoutZeros.append(x[70]-w^2)        \n",
    "    listWithoutZeros.append(x[71]-w^5)\n",
    "    listWithoutZeros.append(x[72]-w^6)\n",
    "    listWithoutZeros.append(x[74]-w^2)\n",
    "    listWithoutZeros.append(x[76]-1)\n",
    "    listWithoutZeros.append(x[77]-w^7)\n",
    "    \n",
    "    #Adding a mistake\n",
    "    listWithoutZeros.append(x[5] - w^3)\n",
    "\n",
    "    \n",
    "    I = Ideal(listWithoutZeros) #Let sage compute the ideal defined by the constraints\n",
    "    G = I.groebner_basis() #Let sage compute the gröbner basis by the ideal\n",
    "    if R(1) in G:\n",
    "        print(\"Error: The system is inconsistent due to conflicting constraints.\")\n",
    "        \n",
    "        raise ValueError(\"The system is inconsistent. No solution exists.\")\n",
    "        \n",
    "    solutions = extractSolutions(list(G))\n",
    "    \n",
    "    #Rephrase solution values to sudoku integers\n",
    "    valuesInW = {'1':1, 'w':2,\"w^2\":3 ,\"w^3\": 4, \"w^4\":5,\n",
    "                  \"w^5\":6, \"-w^3 - 1\": 7,\n",
    "                 \"-w^4 - w\": 8, \"-w^5 - w^2\": 9}\n",
    "    for sol in solutions:\n",
    "        value = solutions[sol]\n",
    "        solutions[sol] = valuesInW[str(value)]\n",
    "       "
   ]
  },
  {
   "cell_type": "code",
   "execution_count": 6,
   "id": "daa1dd",
   "metadata": {
    "collapsed": false
   },
   "outputs": [
   ],
   "source": [
    "# This function is defined only for the case where we are evaluating the solution to the grobner basis for the sudoku. As the polynomials are all linear, in terms of w and equall to 0, the function takes these polynomials as an input and will put every term except for the vertice term to the right. Essentially it solves these determined polynomials.\n",
    "def extractSolutions(polynomials):\n",
    "    solutions = {}\n",
    "    for p in polynomials:\n",
    "        # De variabele is de enige niet-constante term (bijvoorbeeld x0)\n",
    "        variable = list(p.variables())[0]\n",
    "        # De waarde is - de constante term (bijvoorbeeld -(-w^3))\n",
    "        value = -p.constant_coefficient()\n",
    "        solutions[variable] = value\n",
    "    return solutions"
   ]
  },
  {
   "cell_type": "code",
   "execution_count": 7,
   "id": "fd9306",
   "metadata": {
    "collapsed": false
   },
   "outputs": [
    {
     "name": "stdout",
     "output_type": "stream",
     "text": [
      "Error: The system is inconsistent due to conflicting constraints.\n",
      "Caught an exception: The system is inconsistent. No solution exists.\n"
     ]
    }
   ],
   "source": [
    " try:\n",
    "    generateSudokuSolution()\n",
    "except ValueError as e:\n",
    "    print(f\"Caught an exception: {e}\")"
   ]
  },
  {
   "cell_type": "code",
   "execution_count": 0,
   "id": "aa2278",
   "metadata": {
    "collapsed": false
   },
   "outputs": [
   ],
   "source": [
   ]
  },
  {
   "cell_type": "code",
   "execution_count": 0,
   "id": "5f6a87",
   "metadata": {
    "collapsed": false
   },
   "outputs": [
   ],
   "source": [
   ]
  }
 ],
 "metadata": {
  "kernelspec": {
   "argv": [
    "sage-10.4",
    "--python",
    "-m",
    "sage.repl.ipython_kernel",
    "--matplotlib=inline",
    "-f",
    "{connection_file}"
   ],
   "display_name": "SageMath 10.4",
   "env": {
   },
   "language": "sagemath",
   "metadata": {
    "cocalc": {
     "description": "Open-source mathematical software system",
     "priority": 10,
     "url": "https://www.sagemath.org/"
    }
   },
   "name": "sage-10.4",
   "resource_dir": "/ext/jupyter/kernels/sage-10.4"
  },
  "language_info": {
   "codemirror_mode": {
    "name": "ipython",
    "version": 3
   },
   "file_extension": ".py",
   "mimetype": "text/x-python",
   "name": "python",
   "nbconvert_exporter": "python",
   "pygments_lexer": "ipython3",
   "version": "3.12.4"
  }
 },
 "nbformat": 4,
 "nbformat_minor": 4
}