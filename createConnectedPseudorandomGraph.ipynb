{
 "cells": [
  {
   "cell_type": "code",
   "execution_count": 5,
   "id": "0dee4a",
   "metadata": {
    "collapsed": false
   },
   "outputs": [
   ],
   "source": [
    "#We first import numpy as a math package, networkx to work with graphs and matplotlib to create plots.\n",
    "import numpy as np\n",
    "import networkx as nx\n",
    "import matplotlib.pyplot as plt"
   ]
  },
  {
   "cell_type": "code",
   "execution_count": 8,
   "id": "021ef6",
   "metadata": {
    "collapsed": false
   },
   "outputs": [
   ],
   "source": [
    "#This function pseudorandomly generates a graph, with standard randomseed 1(can be changed by giving random seed as third argument).\n",
    "#Input int n (number of vertices), float prob(probability of there being a connection), randomseed=1 (value for our seudorandomgenerator to consistently generate the same random graph)\n",
    "#Returns int len(vertices), which is the total amount of vertices in the graph, and list edgeset containing all edges of the random graph.\n",
    "def genRandomGraph(n,prob,randomseed = 1):\n",
    "    #Generate the vertex set based on the given number of vertices\n",
    "    vertices = []\n",
    "    for i in range(0,n):\n",
    "            vertices.append(i)\n",
    "    #Create a pseudorandom edgeset corresponding to the vertexset based on given probability and number of vertices.\n",
    "    edgeset = []\n",
    "    np.random.seed(randomseed)\n",
    "    nsquared = n*n\n",
    "    ncubed = n*n*n\n",
    "    #Create enough zeroes and ones corresponding to all possible edges in the list random_connections\n",
    "    random_connections = np.random.binomial(1,prob,size = ncubed)\n",
    "    #\n",
    "    for i in range(0,len(vertices)):\n",
    "        for j in range(i+1, len(vertices)):\n",
    "            if (int(random_connections[i*nsquared + j]) == 1):\n",
    "                edgeset.append((i, j))\n",
    "    \n",
    "    return [len(vertices), edgeset]"
   ]
  },
  {
   "cell_type": "code",
   "execution_count": 10,
   "id": "8cae8d",
   "metadata": {
    "collapsed": false
   },
   "outputs": [
   ],
   "source": [
    "#This function generates a graph based on gives verices and edges and tests if this graph is connected.\n",
    "#Input int numberOfVertices, list edges\n",
    "#Returns boolean connectedBoolean\n",
    "def isConnected(numberOfVertices, edges):\n",
    "    #create empty Graph G with networkx\n",
    "    G = nx.Graph()\n",
    "    #Add vertices to Graph G based on input numberOfVertices\n",
    "    for vertex in range(0,numberOfVertices):\n",
    "        G.add_node(vertex)\n",
    "    #Add edges to graph G based on input edges\n",
    "    for edge in edges:\n",
    "        G.add_edge(edge[0],edge[1])\n",
    "    #check if graph G is connected, store result as Boolean and return it.\n",
    "    connectedBoolean = nx.is_connected(G)\n",
    "    return connectedBoolean"
   ]
  },
  {
   "cell_type": "code",
   "execution_count": 11,
   "id": "39bca6",
   "metadata": {
    "collapsed": false
   },
   "outputs": [
   ],
   "source": [
    "#This function finds the connected components of a grapj.\n",
    "#Input int aantalVertices, list edges\n",
    "#Return connected components of a graph G based on the given vertices and edges.\n",
    "def generateComponents(numberOfVertices, edges):\n",
    "    G = nx.Graph()\n",
    "    for vertex in range(0,numberOfVertices):\n",
    "        G.add_node(vertex)\n",
    "    for edge in edges:\n",
    "        G.add_edge(edge[0],edge[1])\n",
    "    components = nx.connected_components(G)\n",
    "    return components"
   ]
  },
  {
   "cell_type": "code",
   "execution_count": 12,
   "id": "5265b7",
   "metadata": {
    "collapsed": false
   },
   "outputs": [
   ],
   "source": [
    "#This function creates a connected graph based on the function genRandomGraph\n",
    "#Input int n(number of vertices), float prob (average probability that a random possible edge is in the graph)\n",
    "#Returns list containing (number of vertices, list of edges)\n",
    "def generateConnectedGraph(n, prob):\n",
    "    random_seed = 0\n",
    "    random_graph = genRandomGraph(n, prob, random_seed)\n",
    "    connectedBoolean = False\n",
    "    while connectedBoolean == False:\n",
    "        random_seed += 1\n",
    "        random_graph = genRandomGraph(n,prob,random_seed)\n",
    "        connectedBoolean = isConnected(random_graph[0], random_graph[1])\n",
    "    print(\"Random seed = \" + str(random_seed))\n",
    "    return (random_graph)\n",
    "    "
   ]
  },
  {
   "cell_type": "code",
   "execution_count": 1,
   "id": "dd434e",
   "metadata": {
    "collapsed": false
   },
   "outputs": [
   ],
   "source": [
    "#This function takes a graph, a k-coloring, and ordering and the vertices of degree 0 and used these to find a corresponding ideal and Groebner basis.\n",
    "#Input list graphInfo, int k, str ordering, list verticesWithoutEdges\n",
    "#Returns Ideal I, Groebner basis G\n",
    "def main(graphInfo, k, ordering):\n",
    "    numberOfVertices = graphInfo[0]\n",
    "    #Create a Polynomialring based on the cyclotomic polynomial and number field.\n",
    "    R.<w> = PolynomialRing(QQ)\n",
    "    b = [0,w-1, w+1, w^(2)+w+1, w^(2)+1, w^(4)+w^(3)+w^(2)+w+1, w^(2)-w+1, w^(6)+w^(5)+w^(4)+w^(3)+w^(2)+w+1, w^(4)+1, w^(6)+w^(3)+1]\n",
    "    cyclitomicPolynomial = b[k]\n",
    "    F.<w> = NumberField(cyclitomicPolynomial)\n",
    "    R = PolynomialRing(F,numberOfVertices, names='x', order=ordering)\n",
    "    \n",
    "    \n",
    "    edges = graphInfo[1]\n",
    "    x = R.gens()\n",
    "    index = list(range(0,n))\n",
    "    functions = []\n",
    "    #add equations corresponding to constraints for coloring\n",
    "    for i in index:\n",
    "        functions.append(x[i]^k - 1)\n",
    "    \n",
    "    for edge in edges:\n",
    "        functions.append(sum([x[edge[0]]^(k-1-m) * x[edge[1]]^m for m in range(0,k)]))\n",
    "    \n",
    "    substitutionDictionairy = {}\n",
    "    \n",
    "    #color the first vertex with the first of k-colors, then color an adjacent vertex with the second out of k colors.   \n",
    "    firstConnectedVertex = edges[0][0]\n",
    "    secondConnectedVertex = edges[0][1]\n",
    "    \n",
    "    substitutionDictionairy[x[firstConnectedVertex]] = 1\n",
    "    substitutionDictionairy[x[secondConnectedVertex]] = w\n",
    "    \n",
    "    #substitute the functions into the functions listas well, followed by the functions needed to color vertices of degree 0 and the first two connected vertices.\n",
    "    functions = [f.subs(substitutionDictionairy) for f in functions]    \n",
    "    \n",
    "    \n",
    "    functions.append(x[firstConnectedVertex] - 1)\n",
    "    functions.append(x[secondConnectedVertex] - w)\n",
    "    \n",
    "    #reate ideal based on given functions and a corresponding Groebner basis, then return them.\n",
    "    I = Ideal(functions)\n",
    "    G = I.groebner_basis()\n",
    "    \n",
    "    return (I,G)"
   ]
  },
  {
   "cell_type": "code",
   "execution_count": 52,
   "id": "9ee159",
   "metadata": {
    "collapsed": false,
    "scrolled": true
   },
   "outputs": [
    {
     "name": "stdout",
     "output_type": "stream",
     "text": [
      "Random seed = 1\n",
      "[14, [(0, 1), (0, 11), (0, 13), (1, 2), (1, 3), (1, 4), (1, 6), (1, 7), (1, 10), (1, 12), (1, 13), (2, 3), (2, 5), (2, 8), (2, 9), (2, 11), (2, 13), (3, 4), (3, 12), (3, 13), (4, 5), (4, 9), (4, 11), (5, 8), (5, 9), (5, 10), (6, 8), (6, 10), (6, 11), (6, 13), (7, 11), (7, 12), (8, 9), (8, 12), (9, 10), (9, 11), (9, 12), (10, 13), (11, 12), (12, 13)]]\n",
      "[]\n"
     ]
    }
   ],
   "source": [
    "#Determine the number of vertices and the probabilty of a random edge being in the graph.\n",
    "n = 14\n",
    "p = 0.4\n",
    "\n",
    "#Create connected graph based on above n and p\n",
    "graphInfo = generateConnectedGraph(n,p)\n",
    "print(graphInfo)\n",
    "\n"
   ]
  },
  {
   "cell_type": "code",
   "execution_count": 55,
   "id": "6e5155",
   "metadata": {
    "collapsed": false
   },
   "outputs": [
    {
     "name": "stdout",
     "output_type": "stream",
     "text": [
      "2\n",
      "3\n",
      "4\n"
     ]
    },
    {
     "name": "stdout",
     "output_type": "stream",
     "text": [
      "The chromatic number of the graph is:  4\n"
     ]
    }
   ],
   "source": [
    "#Set k = 1, fix an ordering. We start ith a Gröbner Basis = [1] i.e. no solution. Then we will run a loop that ends when there is a solution to the k colouring problem that updates k.\n",
    "k=1\n",
    "ordering = 'lex'\n",
    "groebnerBasis = [1]\n",
    "while groebnerBasis == [1]:\n",
    "    k += 1\n",
    "    print(k)\n",
    "    (I, groebnerBasis) = main(graphInfo, k, ordering)\n",
    "    \n",
    "print('The chromatic number of the graph is: ', k)"
   ]
  },
  {
   "cell_type": "code",
   "execution_count": 0,
   "id": "7a8196",
   "metadata": {
    "collapsed": false
   },
   "outputs": [
   ],
   "source": [
   ]
  },
  {
   "cell_type": "code",
   "execution_count": 0,
   "id": "6b4063",
   "metadata": {
    "collapsed": false
   },
   "outputs": [
   ],
   "source": [
   ]
  }
 ],
 "metadata": {
  "kernelspec": {
   "argv": [
    "sage-10.4",
    "--python",
    "-m",
    "sage.repl.ipython_kernel",
    "--matplotlib=inline",
    "-f",
    "{connection_file}"
   ],
   "display_name": "SageMath 10.4",
   "env": {
   },
   "language": "sagemath",
   "metadata": {
    "cocalc": {
     "description": "Open-source mathematical software system",
     "priority": 10,
     "url": "https://www.sagemath.org/"
    }
   },
   "name": "sage-10.4",
   "resource_dir": "/ext/jupyter/kernels/sage-10.4"
  },
  "language_info": {
   "codemirror_mode": {
    "name": "ipython",
    "version": 3
   },
   "file_extension": ".py",
   "mimetype": "text/x-python",
   "name": "python",
   "nbconvert_exporter": "python",
   "pygments_lexer": "ipython3",
   "version": "3.12.4"
  }
 },
 "nbformat": 4,
 "nbformat_minor": 4
}